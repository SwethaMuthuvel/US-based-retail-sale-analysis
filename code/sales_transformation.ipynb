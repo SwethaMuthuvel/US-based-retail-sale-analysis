{
 "cells": [
  {
   "cell_type": "code",
   "execution_count": 74,
   "id": "675e6368",
   "metadata": {},
   "outputs": [],
   "source": [
    "import pymysql\n",
    "import pandas as pd\n",
    "import sqlalchemy\n",
    "from datetime import datetime\n",
    "import matplotlib.pyplot as plt\n",
    "import seaborn as sns\n",
    "import numpy as np\n",
    "from dateutil.parser import parse "
   ]
  },
  {
   "cell_type": "code",
   "execution_count": 75,
   "id": "c7b09a63",
   "metadata": {},
   "outputs": [],
   "source": [
    "conn=pymysql.connect(host='localhost',port=int(3306),user='root',passwd='password',db='project')\n",
    "cursor=conn.cursor()"
   ]
  },
  {
   "cell_type": "code",
   "execution_count": 76,
   "id": "b0db79d0",
   "metadata": {},
   "outputs": [
    {
     "name": "stderr",
     "output_type": "stream",
     "text": [
      "/home/ubh01/anaconda3/lib/python3.9/site-packages/pandas/io/sql.py:761: UserWarning: pandas only support SQLAlchemy connectable(engine/connection) ordatabase string URI or sqlite3 DBAPI2 connectionother DBAPI2 objects are not tested, please consider using SQLAlchemy\n",
      "  warnings.warn(\n"
     ]
    },
    {
     "data": {
      "text/html": [
       "<div>\n",
       "<style scoped>\n",
       "    .dataframe tbody tr th:only-of-type {\n",
       "        vertical-align: middle;\n",
       "    }\n",
       "\n",
       "    .dataframe tbody tr th {\n",
       "        vertical-align: top;\n",
       "    }\n",
       "\n",
       "    .dataframe thead th {\n",
       "        text-align: right;\n",
       "    }\n",
       "</style>\n",
       "<table border=\"1\" class=\"dataframe\">\n",
       "  <thead>\n",
       "    <tr style=\"text-align: right;\">\n",
       "      <th></th>\n",
       "      <th>sale_id</th>\n",
       "      <th>cust_id</th>\n",
       "      <th>branch_id</th>\n",
       "      <th>product_id</th>\n",
       "      <th>product_price</th>\n",
       "      <th>quantity</th>\n",
       "      <th>sales_date</th>\n",
       "    </tr>\n",
       "  </thead>\n",
       "  <tbody>\n",
       "    <tr>\n",
       "      <th>0</th>\n",
       "      <td>S01</td>\n",
       "      <td>1</td>\n",
       "      <td>218654</td>\n",
       "      <td>P01</td>\n",
       "      <td>100</td>\n",
       "      <td>2</td>\n",
       "      <td>2022-02-15</td>\n",
       "    </tr>\n",
       "    <tr>\n",
       "      <th>1</th>\n",
       "      <td>S02</td>\n",
       "      <td>2</td>\n",
       "      <td>289415</td>\n",
       "      <td>P02</td>\n",
       "      <td>250</td>\n",
       "      <td>3</td>\n",
       "      <td>2020-04-14</td>\n",
       "    </tr>\n",
       "    <tr>\n",
       "      <th>2</th>\n",
       "      <td>S03</td>\n",
       "      <td>3</td>\n",
       "      <td>272682</td>\n",
       "      <td>P03</td>\n",
       "      <td>200</td>\n",
       "      <td>4</td>\n",
       "      <td>2020-11-13</td>\n",
       "    </tr>\n",
       "    <tr>\n",
       "      <th>3</th>\n",
       "      <td>S04</td>\n",
       "      <td>4</td>\n",
       "      <td>275394</td>\n",
       "      <td>P04</td>\n",
       "      <td>180</td>\n",
       "      <td>2</td>\n",
       "      <td>2021-08-06</td>\n",
       "    </tr>\n",
       "    <tr>\n",
       "      <th>4</th>\n",
       "      <td>S06</td>\n",
       "      <td>6</td>\n",
       "      <td>296483</td>\n",
       "      <td>P06</td>\n",
       "      <td>280</td>\n",
       "      <td>5</td>\n",
       "      <td>2021-02-27</td>\n",
       "    </tr>\n",
       "    <tr>\n",
       "      <th>5</th>\n",
       "      <td>S07</td>\n",
       "      <td>7</td>\n",
       "      <td>214563</td>\n",
       "      <td>P07</td>\n",
       "      <td>300</td>\n",
       "      <td>6</td>\n",
       "      <td>2021-04-18</td>\n",
       "    </tr>\n",
       "    <tr>\n",
       "      <th>6</th>\n",
       "      <td>S08</td>\n",
       "      <td>8</td>\n",
       "      <td>284566</td>\n",
       "      <td>P08</td>\n",
       "      <td>250</td>\n",
       "      <td>7</td>\n",
       "      <td>2021-03-12</td>\n",
       "    </tr>\n",
       "    <tr>\n",
       "      <th>7</th>\n",
       "      <td>S09</td>\n",
       "      <td>9</td>\n",
       "      <td>274681</td>\n",
       "      <td>P09</td>\n",
       "      <td>200</td>\n",
       "      <td>2</td>\n",
       "      <td>2022-02-08</td>\n",
       "    </tr>\n",
       "    <tr>\n",
       "      <th>8</th>\n",
       "      <td>S10</td>\n",
       "      <td>10</td>\n",
       "      <td>218654</td>\n",
       "      <td>P01</td>\n",
       "      <td>100</td>\n",
       "      <td>4</td>\n",
       "      <td>2021-02-07</td>\n",
       "    </tr>\n",
       "    <tr>\n",
       "      <th>9</th>\n",
       "      <td>S100</td>\n",
       "      <td>100</td>\n",
       "      <td>274681</td>\n",
       "      <td>P35</td>\n",
       "      <td>260</td>\n",
       "      <td>5</td>\n",
       "      <td>2021-10-26</td>\n",
       "    </tr>\n",
       "  </tbody>\n",
       "</table>\n",
       "</div>"
      ],
      "text/plain": [
       "  sale_id  cust_id  branch_id product_id  product_price  quantity  sales_date\n",
       "0     S01        1     218654        P01            100         2  2022-02-15\n",
       "1     S02        2     289415        P02            250         3  2020-04-14\n",
       "2     S03        3     272682        P03            200         4  2020-11-13\n",
       "3     S04        4     275394        P04            180         2  2021-08-06\n",
       "4     S06        6     296483        P06            280         5  2021-02-27\n",
       "5     S07        7     214563        P07            300         6  2021-04-18\n",
       "6     S08        8     284566        P08            250         7  2021-03-12\n",
       "7     S09        9     274681        P09            200         2  2022-02-08\n",
       "8     S10       10     218654        P01            100         4  2021-02-07\n",
       "9    S100      100     274681        P35            260         5  2021-10-26"
      ]
     },
     "execution_count": 76,
     "metadata": {},
     "output_type": "execute_result"
    }
   ],
   "source": [
    "df=pd.read_sql_query(\"SELECT * FROM sales\",conn)\n",
    "df.head(10)"
   ]
  },
  {
   "cell_type": "code",
   "execution_count": 77,
   "id": "70ff09da",
   "metadata": {},
   "outputs": [
    {
     "name": "stderr",
     "output_type": "stream",
     "text": [
      "/home/ubh01/anaconda3/lib/python3.9/site-packages/pandas/io/sql.py:761: UserWarning: pandas only support SQLAlchemy connectable(engine/connection) ordatabase string URI or sqlite3 DBAPI2 connectionother DBAPI2 objects are not tested, please consider using SQLAlchemy\n",
      "  warnings.warn(\n"
     ]
    },
    {
     "data": {
      "text/plain": [
       "0           Walmart Supercenter-Kansas\n",
       "1           Walmart Supercenter-Kansas\n",
       "2           Walmart Supercenter-Kansas\n",
       "3           Walmart Supercenter-Kansas\n",
       "4           Walmart Supercenter-Kansas\n",
       "                    ...               \n",
       "91    Crayola LLC company-Pennsylvania\n",
       "92    Crayola LLC company-Pennsylvania\n",
       "93    Crayola LLC company-Pennsylvania\n",
       "94    Crayola LLC company-Pennsylvania\n",
       "95    Crayola LLC company-Pennsylvania\n",
       "Name: branch_details, Length: 96, dtype: object"
      ]
     },
     "execution_count": 77,
     "metadata": {},
     "output_type": "execute_result"
    }
   ],
   "source": [
    "df[\"branch_details\"]=pd.read_sql_query(\"select concat(b.branch_name,'-',b.city) from branch b join sales s  where b.branch_id =s.branch_id;\",conn)\n",
    "df[\"branch_details\"]"
   ]
  },
  {
   "cell_type": "code",
   "execution_count": 78,
   "id": "507a2972",
   "metadata": {},
   "outputs": [
    {
     "name": "stderr",
     "output_type": "stream",
     "text": [
      "/home/ubh01/anaconda3/lib/python3.9/site-packages/pandas/io/sql.py:761: UserWarning: pandas only support SQLAlchemy connectable(engine/connection) ordatabase string URI or sqlite3 DBAPI2 connectionother DBAPI2 objects are not tested, please consider using SQLAlchemy\n",
      "  warnings.warn(\n"
     ]
    },
    {
     "data": {
      "text/plain": [
       "0     parle biscuit-snack\n",
       "1     parle biscuit-snack\n",
       "2     parle biscuit-snack\n",
       "3     parle biscuit-snack\n",
       "4     parle biscuit-snack\n",
       "             ...         \n",
       "91          banana-fruits\n",
       "92       tangerine-fruits\n",
       "93      potato-vegetables\n",
       "94     brinjal-vegetables\n",
       "95      chilly-vegetables\n",
       "Name: product_details, Length: 96, dtype: object"
      ]
     },
     "execution_count": 78,
     "metadata": {},
     "output_type": "execute_result"
    }
   ],
   "source": [
    "df[\"product_details\"]=pd.read_sql_query(\"select concat(p.product_name,'-',p.product_category) from product p join sales s  where p.product_id =s.product_id;\",conn)\n",
    "df[\"product_details\"]"
   ]
  },
  {
   "cell_type": "code",
   "execution_count": 79,
   "id": "3278729b",
   "metadata": {},
   "outputs": [
    {
     "name": "stderr",
     "output_type": "stream",
     "text": [
      "/home/ubh01/anaconda3/lib/python3.9/site-packages/pandas/io/sql.py:761: UserWarning: pandas only support SQLAlchemy connectable(engine/connection) ordatabase string URI or sqlite3 DBAPI2 connectionother DBAPI2 objects are not tested, please consider using SQLAlchemy\n",
      "  warnings.warn(\n"
     ]
    },
    {
     "data": {
      "text/plain": [
       "0      200\n",
       "1      750\n",
       "2      800\n",
       "3      360\n",
       "4     1400\n",
       "      ... \n",
       "91     600\n",
       "92    4080\n",
       "93     800\n",
       "94    3200\n",
       "95    2250\n",
       "Name: sale_amount, Length: 96, dtype: int64"
      ]
     },
     "execution_count": 79,
     "metadata": {},
     "output_type": "execute_result"
    }
   ],
   "source": [
    "df[\"sale_amount\"]=pd.read_sql_query(\"select product_price * quantity as sale_amount from sales;\",conn)\n",
    "df[\"sale_amount\"]"
   ]
  },
  {
   "cell_type": "code",
   "execution_count": 80,
   "id": "89cf3810",
   "metadata": {},
   "outputs": [
    {
     "name": "stderr",
     "output_type": "stream",
     "text": [
      "/home/ubh01/anaconda3/lib/python3.9/site-packages/pandas/io/sql.py:761: UserWarning: pandas only support SQLAlchemy connectable(engine/connection) ordatabase string URI or sqlite3 DBAPI2 connectionother DBAPI2 objects are not tested, please consider using SQLAlchemy\n",
      "  warnings.warn(\n"
     ]
    },
    {
     "data": {
      "text/plain": [
       "0     2022\n",
       "1     2020\n",
       "2     2020\n",
       "3     2021\n",
       "4     2021\n",
       "      ... \n",
       "91    2020\n",
       "92    2021\n",
       "93    2021\n",
       "94    2021\n",
       "95    2021\n",
       "Name: year, Length: 96, dtype: object"
      ]
     },
     "execution_count": 80,
     "metadata": {},
     "output_type": "execute_result"
    }
   ],
   "source": [
    "df[\"year\"]=pd.read_sql_query(\"SELECT date_format(sales_date,'%Y') AS Year FROM sales\",conn)\n",
    "df[\"year\"]"
   ]
  },
  {
   "cell_type": "code",
   "execution_count": 81,
   "id": "eb2f3e77",
   "metadata": {},
   "outputs": [
    {
     "name": "stderr",
     "output_type": "stream",
     "text": [
      "/home/ubh01/anaconda3/lib/python3.9/site-packages/pandas/io/sql.py:761: UserWarning: pandas only support SQLAlchemy connectable(engine/connection) ordatabase string URI or sqlite3 DBAPI2 connectionother DBAPI2 objects are not tested, please consider using SQLAlchemy\n",
      "  warnings.warn(\n"
     ]
    },
    {
     "data": {
      "text/plain": [
       "0     February\n",
       "1        April\n",
       "2     November\n",
       "3       August\n",
       "4     February\n",
       "        ...   \n",
       "91      August\n",
       "92     October\n",
       "93        July\n",
       "94      August\n",
       "95     October\n",
       "Name: month, Length: 96, dtype: object"
      ]
     },
     "execution_count": 81,
     "metadata": {},
     "output_type": "execute_result"
    }
   ],
   "source": [
    "df[\"month\"]=pd.read_sql_query(\"SELECT date_format(sales_date,'%M') AS Month FROM sales\",conn)\n",
    "df[\"month\"]"
   ]
  },
  {
   "cell_type": "code",
   "execution_count": 82,
   "id": "3bbe6715",
   "metadata": {},
   "outputs": [
    {
     "data": {
      "text/html": [
       "<div>\n",
       "<style scoped>\n",
       "    .dataframe tbody tr th:only-of-type {\n",
       "        vertical-align: middle;\n",
       "    }\n",
       "\n",
       "    .dataframe tbody tr th {\n",
       "        vertical-align: top;\n",
       "    }\n",
       "\n",
       "    .dataframe thead th {\n",
       "        text-align: right;\n",
       "    }\n",
       "</style>\n",
       "<table border=\"1\" class=\"dataframe\">\n",
       "  <thead>\n",
       "    <tr style=\"text-align: right;\">\n",
       "      <th></th>\n",
       "      <th>sale_id</th>\n",
       "      <th>cust_id</th>\n",
       "      <th>branch_id</th>\n",
       "      <th>branch_details</th>\n",
       "      <th>product_id</th>\n",
       "      <th>product_details</th>\n",
       "      <th>product_price</th>\n",
       "      <th>quantity</th>\n",
       "      <th>sale_amount</th>\n",
       "      <th>sales_date</th>\n",
       "      <th>sales_year</th>\n",
       "      <th>sales_month</th>\n",
       "    </tr>\n",
       "  </thead>\n",
       "  <tbody>\n",
       "    <tr>\n",
       "      <th>0</th>\n",
       "      <td>S01</td>\n",
       "      <td>1</td>\n",
       "      <td>218654</td>\n",
       "      <td>Walmart Supercenter-Kansas</td>\n",
       "      <td>P01</td>\n",
       "      <td>parle biscuit-snack</td>\n",
       "      <td>100</td>\n",
       "      <td>2</td>\n",
       "      <td>200</td>\n",
       "      <td>2022-02-15</td>\n",
       "      <td>2022</td>\n",
       "      <td>February</td>\n",
       "    </tr>\n",
       "    <tr>\n",
       "      <th>1</th>\n",
       "      <td>S02</td>\n",
       "      <td>2</td>\n",
       "      <td>289415</td>\n",
       "      <td>Walmart Supercenter-Kansas</td>\n",
       "      <td>P02</td>\n",
       "      <td>parle biscuit-snack</td>\n",
       "      <td>250</td>\n",
       "      <td>3</td>\n",
       "      <td>750</td>\n",
       "      <td>2020-04-14</td>\n",
       "      <td>2020</td>\n",
       "      <td>April</td>\n",
       "    </tr>\n",
       "    <tr>\n",
       "      <th>2</th>\n",
       "      <td>S03</td>\n",
       "      <td>3</td>\n",
       "      <td>272682</td>\n",
       "      <td>Walmart Supercenter-Kansas</td>\n",
       "      <td>P03</td>\n",
       "      <td>parle biscuit-snack</td>\n",
       "      <td>200</td>\n",
       "      <td>4</td>\n",
       "      <td>800</td>\n",
       "      <td>2020-11-13</td>\n",
       "      <td>2020</td>\n",
       "      <td>November</td>\n",
       "    </tr>\n",
       "    <tr>\n",
       "      <th>3</th>\n",
       "      <td>S04</td>\n",
       "      <td>4</td>\n",
       "      <td>275394</td>\n",
       "      <td>Walmart Supercenter-Kansas</td>\n",
       "      <td>P04</td>\n",
       "      <td>parle biscuit-snack</td>\n",
       "      <td>180</td>\n",
       "      <td>2</td>\n",
       "      <td>360</td>\n",
       "      <td>2021-08-06</td>\n",
       "      <td>2021</td>\n",
       "      <td>August</td>\n",
       "    </tr>\n",
       "    <tr>\n",
       "      <th>4</th>\n",
       "      <td>S06</td>\n",
       "      <td>6</td>\n",
       "      <td>296483</td>\n",
       "      <td>Walmart Supercenter-Kansas</td>\n",
       "      <td>P06</td>\n",
       "      <td>parle biscuit-snack</td>\n",
       "      <td>280</td>\n",
       "      <td>5</td>\n",
       "      <td>1400</td>\n",
       "      <td>2021-02-27</td>\n",
       "      <td>2021</td>\n",
       "      <td>February</td>\n",
       "    </tr>\n",
       "    <tr>\n",
       "      <th>...</th>\n",
       "      <td>...</td>\n",
       "      <td>...</td>\n",
       "      <td>...</td>\n",
       "      <td>...</td>\n",
       "      <td>...</td>\n",
       "      <td>...</td>\n",
       "      <td>...</td>\n",
       "      <td>...</td>\n",
       "      <td>...</td>\n",
       "      <td>...</td>\n",
       "      <td>...</td>\n",
       "      <td>...</td>\n",
       "    </tr>\n",
       "    <tr>\n",
       "      <th>91</th>\n",
       "      <td>S94</td>\n",
       "      <td>94</td>\n",
       "      <td>284566</td>\n",
       "      <td>Crayola LLC company-Pennsylvania</td>\n",
       "      <td>P17</td>\n",
       "      <td>banana-fruits</td>\n",
       "      <td>200</td>\n",
       "      <td>3</td>\n",
       "      <td>600</td>\n",
       "      <td>2020-08-30</td>\n",
       "      <td>2020</td>\n",
       "      <td>August</td>\n",
       "    </tr>\n",
       "    <tr>\n",
       "      <th>92</th>\n",
       "      <td>S95</td>\n",
       "      <td>95</td>\n",
       "      <td>274681</td>\n",
       "      <td>Crayola LLC company-Pennsylvania</td>\n",
       "      <td>P18</td>\n",
       "      <td>tangerine-fruits</td>\n",
       "      <td>1020</td>\n",
       "      <td>4</td>\n",
       "      <td>4080</td>\n",
       "      <td>2021-10-27</td>\n",
       "      <td>2021</td>\n",
       "      <td>October</td>\n",
       "    </tr>\n",
       "    <tr>\n",
       "      <th>93</th>\n",
       "      <td>S96</td>\n",
       "      <td>96</td>\n",
       "      <td>272682</td>\n",
       "      <td>Crayola LLC company-Pennsylvania</td>\n",
       "      <td>P12</td>\n",
       "      <td>potato-vegetables</td>\n",
       "      <td>200</td>\n",
       "      <td>4</td>\n",
       "      <td>800</td>\n",
       "      <td>2021-07-13</td>\n",
       "      <td>2021</td>\n",
       "      <td>July</td>\n",
       "    </tr>\n",
       "    <tr>\n",
       "      <th>94</th>\n",
       "      <td>S97</td>\n",
       "      <td>97</td>\n",
       "      <td>275394</td>\n",
       "      <td>Crayola LLC company-Pennsylvania</td>\n",
       "      <td>P13</td>\n",
       "      <td>brinjal-vegetables</td>\n",
       "      <td>800</td>\n",
       "      <td>4</td>\n",
       "      <td>3200</td>\n",
       "      <td>2021-08-04</td>\n",
       "      <td>2021</td>\n",
       "      <td>August</td>\n",
       "    </tr>\n",
       "    <tr>\n",
       "      <th>95</th>\n",
       "      <td>S99</td>\n",
       "      <td>99</td>\n",
       "      <td>296483</td>\n",
       "      <td>Crayola LLC company-Pennsylvania</td>\n",
       "      <td>P15</td>\n",
       "      <td>chilly-vegetables</td>\n",
       "      <td>450</td>\n",
       "      <td>5</td>\n",
       "      <td>2250</td>\n",
       "      <td>2021-10-15</td>\n",
       "      <td>2021</td>\n",
       "      <td>October</td>\n",
       "    </tr>\n",
       "  </tbody>\n",
       "</table>\n",
       "<p>96 rows × 12 columns</p>\n",
       "</div>"
      ],
      "text/plain": [
       "   sale_id  cust_id  branch_id                    branch_details product_id  \\\n",
       "0      S01        1     218654        Walmart Supercenter-Kansas        P01   \n",
       "1      S02        2     289415        Walmart Supercenter-Kansas        P02   \n",
       "2      S03        3     272682        Walmart Supercenter-Kansas        P03   \n",
       "3      S04        4     275394        Walmart Supercenter-Kansas        P04   \n",
       "4      S06        6     296483        Walmart Supercenter-Kansas        P06   \n",
       "..     ...      ...        ...                               ...        ...   \n",
       "91     S94       94     284566  Crayola LLC company-Pennsylvania        P17   \n",
       "92     S95       95     274681  Crayola LLC company-Pennsylvania        P18   \n",
       "93     S96       96     272682  Crayola LLC company-Pennsylvania        P12   \n",
       "94     S97       97     275394  Crayola LLC company-Pennsylvania        P13   \n",
       "95     S99       99     296483  Crayola LLC company-Pennsylvania        P15   \n",
       "\n",
       "        product_details  product_price  quantity  sale_amount  sales_date  \\\n",
       "0   parle biscuit-snack            100         2          200  2022-02-15   \n",
       "1   parle biscuit-snack            250         3          750  2020-04-14   \n",
       "2   parle biscuit-snack            200         4          800  2020-11-13   \n",
       "3   parle biscuit-snack            180         2          360  2021-08-06   \n",
       "4   parle biscuit-snack            280         5         1400  2021-02-27   \n",
       "..                  ...            ...       ...          ...         ...   \n",
       "91        banana-fruits            200         3          600  2020-08-30   \n",
       "92     tangerine-fruits           1020         4         4080  2021-10-27   \n",
       "93    potato-vegetables            200         4          800  2021-07-13   \n",
       "94   brinjal-vegetables            800         4         3200  2021-08-04   \n",
       "95    chilly-vegetables            450         5         2250  2021-10-15   \n",
       "\n",
       "   sales_year sales_month  \n",
       "0        2022    February  \n",
       "1        2020       April  \n",
       "2        2020    November  \n",
       "3        2021      August  \n",
       "4        2021    February  \n",
       "..        ...         ...  \n",
       "91       2020      August  \n",
       "92       2021     October  \n",
       "93       2021        July  \n",
       "94       2021      August  \n",
       "95       2021     October  \n",
       "\n",
       "[96 rows x 12 columns]"
      ]
     },
     "execution_count": 82,
     "metadata": {},
     "output_type": "execute_result"
    }
   ],
   "source": [
    "data = pd.DataFrame({\n",
    "    'sale_id':df[\"sale_id\"],\n",
    "    'cust_id':df[\"cust_id\"],\n",
    "    'branch_id':df[\"branch_id\"],\n",
    "    'branch_details':df[\"branch_details\"],\n",
    "    'product_id':df[\"product_id\"],\n",
    "    'product_details':df[\"product_details\"],\n",
    "    'product_price':df[\"product_price\"],\n",
    "    'quantity':df[\"quantity\"],\n",
    "    'sale_amount':df[\"sale_amount\"],\n",
    "    'sales_date':df[\"sales_date\"],\n",
    "    'sales_year':df[\"year\"],\n",
    "    'sales_month':df[\"month\"],\n",
    "})\n",
    "data"
   ]
  },
  {
   "cell_type": "code",
   "execution_count": 83,
   "id": "0ace558d",
   "metadata": {},
   "outputs": [],
   "source": [
    "data.to_csv(r'\\Desktop\\sales_trans.csv',index=False,header=False)"
   ]
  },
  {
   "cell_type": "code",
   "execution_count": 84,
   "id": "a6fd9206",
   "metadata": {},
   "outputs": [
    {
     "name": "stderr",
     "output_type": "stream",
     "text": [
      "/home/ubh01/anaconda3/lib/python3.9/site-packages/pandas/io/sql.py:761: UserWarning: pandas only support SQLAlchemy connectable(engine/connection) ordatabase string URI or sqlite3 DBAPI2 connectionother DBAPI2 objects are not tested, please consider using SQLAlchemy\n",
      "  warnings.warn(\n"
     ]
    },
    {
     "data": {
      "text/html": [
       "<div>\n",
       "<style scoped>\n",
       "    .dataframe tbody tr th:only-of-type {\n",
       "        vertical-align: middle;\n",
       "    }\n",
       "\n",
       "    .dataframe tbody tr th {\n",
       "        vertical-align: top;\n",
       "    }\n",
       "\n",
       "    .dataframe thead th {\n",
       "        text-align: right;\n",
       "    }\n",
       "</style>\n",
       "<table border=\"1\" class=\"dataframe\">\n",
       "  <thead>\n",
       "    <tr style=\"text-align: right;\">\n",
       "      <th></th>\n",
       "      <th>sale_id</th>\n",
       "      <th>cust_id</th>\n",
       "      <th>branch_id</th>\n",
       "      <th>branch_details</th>\n",
       "      <th>product_id</th>\n",
       "      <th>product_details</th>\n",
       "      <th>product_price</th>\n",
       "      <th>quantity</th>\n",
       "      <th>sale_amount</th>\n",
       "      <th>sales_date</th>\n",
       "      <th>sales_year</th>\n",
       "      <th>sales_month</th>\n",
       "    </tr>\n",
       "  </thead>\n",
       "  <tbody>\n",
       "    <tr>\n",
       "      <th>0</th>\n",
       "      <td>S01</td>\n",
       "      <td>1</td>\n",
       "      <td>218654</td>\n",
       "      <td>Walmart Supercenter-Kansas</td>\n",
       "      <td>P01</td>\n",
       "      <td>parle biscuit-snack</td>\n",
       "      <td>100</td>\n",
       "      <td>2</td>\n",
       "      <td>200</td>\n",
       "      <td>2022-02-15</td>\n",
       "      <td>2022</td>\n",
       "      <td>February</td>\n",
       "    </tr>\n",
       "    <tr>\n",
       "      <th>1</th>\n",
       "      <td>S02</td>\n",
       "      <td>2</td>\n",
       "      <td>289415</td>\n",
       "      <td>Walmart Supercenter-Kansas</td>\n",
       "      <td>P02</td>\n",
       "      <td>parle biscuit-snack</td>\n",
       "      <td>250</td>\n",
       "      <td>3</td>\n",
       "      <td>750</td>\n",
       "      <td>2020-04-14</td>\n",
       "      <td>2020</td>\n",
       "      <td>April</td>\n",
       "    </tr>\n",
       "    <tr>\n",
       "      <th>2</th>\n",
       "      <td>S03</td>\n",
       "      <td>3</td>\n",
       "      <td>272682</td>\n",
       "      <td>Walmart Supercenter-Kansas</td>\n",
       "      <td>P03</td>\n",
       "      <td>parle biscuit-snack</td>\n",
       "      <td>200</td>\n",
       "      <td>4</td>\n",
       "      <td>800</td>\n",
       "      <td>2020-11-13</td>\n",
       "      <td>2020</td>\n",
       "      <td>November</td>\n",
       "    </tr>\n",
       "    <tr>\n",
       "      <th>3</th>\n",
       "      <td>S04</td>\n",
       "      <td>4</td>\n",
       "      <td>275394</td>\n",
       "      <td>Walmart Supercenter-Kansas</td>\n",
       "      <td>P04</td>\n",
       "      <td>parle biscuit-snack</td>\n",
       "      <td>180</td>\n",
       "      <td>2</td>\n",
       "      <td>360</td>\n",
       "      <td>2021-08-06</td>\n",
       "      <td>2021</td>\n",
       "      <td>August</td>\n",
       "    </tr>\n",
       "    <tr>\n",
       "      <th>4</th>\n",
       "      <td>S06</td>\n",
       "      <td>6</td>\n",
       "      <td>296483</td>\n",
       "      <td>Walmart Supercenter-Kansas</td>\n",
       "      <td>P06</td>\n",
       "      <td>parle biscuit-snack</td>\n",
       "      <td>280</td>\n",
       "      <td>5</td>\n",
       "      <td>1400</td>\n",
       "      <td>2021-02-27</td>\n",
       "      <td>2021</td>\n",
       "      <td>February</td>\n",
       "    </tr>\n",
       "    <tr>\n",
       "      <th>...</th>\n",
       "      <td>...</td>\n",
       "      <td>...</td>\n",
       "      <td>...</td>\n",
       "      <td>...</td>\n",
       "      <td>...</td>\n",
       "      <td>...</td>\n",
       "      <td>...</td>\n",
       "      <td>...</td>\n",
       "      <td>...</td>\n",
       "      <td>...</td>\n",
       "      <td>...</td>\n",
       "      <td>...</td>\n",
       "    </tr>\n",
       "    <tr>\n",
       "      <th>91</th>\n",
       "      <td>S94</td>\n",
       "      <td>94</td>\n",
       "      <td>284566</td>\n",
       "      <td>Crayola LLC company-Pennsylvan</td>\n",
       "      <td>P17</td>\n",
       "      <td>banana-fruits</td>\n",
       "      <td>200</td>\n",
       "      <td>3</td>\n",
       "      <td>600</td>\n",
       "      <td>2020-08-30</td>\n",
       "      <td>2020</td>\n",
       "      <td>August</td>\n",
       "    </tr>\n",
       "    <tr>\n",
       "      <th>92</th>\n",
       "      <td>S95</td>\n",
       "      <td>95</td>\n",
       "      <td>274681</td>\n",
       "      <td>Crayola LLC company-Pennsylvan</td>\n",
       "      <td>P18</td>\n",
       "      <td>tangerine-fruits</td>\n",
       "      <td>1020</td>\n",
       "      <td>4</td>\n",
       "      <td>4080</td>\n",
       "      <td>2021-10-27</td>\n",
       "      <td>2021</td>\n",
       "      <td>October</td>\n",
       "    </tr>\n",
       "    <tr>\n",
       "      <th>93</th>\n",
       "      <td>S96</td>\n",
       "      <td>96</td>\n",
       "      <td>272682</td>\n",
       "      <td>Crayola LLC company-Pennsylvan</td>\n",
       "      <td>P12</td>\n",
       "      <td>potato-vegetables</td>\n",
       "      <td>200</td>\n",
       "      <td>4</td>\n",
       "      <td>800</td>\n",
       "      <td>2021-07-13</td>\n",
       "      <td>2021</td>\n",
       "      <td>July</td>\n",
       "    </tr>\n",
       "    <tr>\n",
       "      <th>94</th>\n",
       "      <td>S97</td>\n",
       "      <td>97</td>\n",
       "      <td>275394</td>\n",
       "      <td>Crayola LLC company-Pennsylvan</td>\n",
       "      <td>P13</td>\n",
       "      <td>brinjal-vegetables</td>\n",
       "      <td>800</td>\n",
       "      <td>4</td>\n",
       "      <td>3200</td>\n",
       "      <td>2021-08-04</td>\n",
       "      <td>2021</td>\n",
       "      <td>August</td>\n",
       "    </tr>\n",
       "    <tr>\n",
       "      <th>95</th>\n",
       "      <td>S99</td>\n",
       "      <td>99</td>\n",
       "      <td>296483</td>\n",
       "      <td>Crayola LLC company-Pennsylvan</td>\n",
       "      <td>P15</td>\n",
       "      <td>chilly-vegetables</td>\n",
       "      <td>450</td>\n",
       "      <td>5</td>\n",
       "      <td>2250</td>\n",
       "      <td>2021-10-15</td>\n",
       "      <td>2021</td>\n",
       "      <td>October</td>\n",
       "    </tr>\n",
       "  </tbody>\n",
       "</table>\n",
       "<p>96 rows × 12 columns</p>\n",
       "</div>"
      ],
      "text/plain": [
       "   sale_id  cust_id  branch_id                  branch_details product_id  \\\n",
       "0      S01        1     218654      Walmart Supercenter-Kansas        P01   \n",
       "1      S02        2     289415      Walmart Supercenter-Kansas        P02   \n",
       "2      S03        3     272682      Walmart Supercenter-Kansas        P03   \n",
       "3      S04        4     275394      Walmart Supercenter-Kansas        P04   \n",
       "4      S06        6     296483      Walmart Supercenter-Kansas        P06   \n",
       "..     ...      ...        ...                             ...        ...   \n",
       "91     S94       94     284566  Crayola LLC company-Pennsylvan        P17   \n",
       "92     S95       95     274681  Crayola LLC company-Pennsylvan        P18   \n",
       "93     S96       96     272682  Crayola LLC company-Pennsylvan        P12   \n",
       "94     S97       97     275394  Crayola LLC company-Pennsylvan        P13   \n",
       "95     S99       99     296483  Crayola LLC company-Pennsylvan        P15   \n",
       "\n",
       "        product_details  product_price  quantity  sale_amount  sales_date  \\\n",
       "0   parle biscuit-snack            100         2          200  2022-02-15   \n",
       "1   parle biscuit-snack            250         3          750  2020-04-14   \n",
       "2   parle biscuit-snack            200         4          800  2020-11-13   \n",
       "3   parle biscuit-snack            180         2          360  2021-08-06   \n",
       "4   parle biscuit-snack            280         5         1400  2021-02-27   \n",
       "..                  ...            ...       ...          ...         ...   \n",
       "91        banana-fruits            200         3          600  2020-08-30   \n",
       "92     tangerine-fruits           1020         4         4080  2021-10-27   \n",
       "93    potato-vegetables            200         4          800  2021-07-13   \n",
       "94   brinjal-vegetables            800         4         3200  2021-08-04   \n",
       "95    chilly-vegetables            450         5         2250  2021-10-15   \n",
       "\n",
       "    sales_year sales_month  \n",
       "0         2022    February  \n",
       "1         2020       April  \n",
       "2         2020    November  \n",
       "3         2021      August  \n",
       "4         2021    February  \n",
       "..         ...         ...  \n",
       "91        2020      August  \n",
       "92        2021     October  \n",
       "93        2021        July  \n",
       "94        2021      August  \n",
       "95        2021     October  \n",
       "\n",
       "[96 rows x 12 columns]"
      ]
     },
     "execution_count": 84,
     "metadata": {},
     "output_type": "execute_result"
    }
   ],
   "source": [
    "sales_trans=pd.read_sql_query(\"select * from sales_transformation\",conn)\n",
    "sales_trans"
   ]
  },
  {
   "cell_type": "code",
   "execution_count": 85,
   "id": "dcbd40c4",
   "metadata": {},
   "outputs": [
    {
     "name": "stderr",
     "output_type": "stream",
     "text": [
      "/home/ubh01/anaconda3/lib/python3.9/site-packages/pandas/io/sql.py:761: UserWarning: pandas only support SQLAlchemy connectable(engine/connection) ordatabase string URI or sqlite3 DBAPI2 connectionother DBAPI2 objects are not tested, please consider using SQLAlchemy\n",
      "  warnings.warn(\n"
     ]
    }
   ],
   "source": [
    "sale=pd.read_sql_query(\"select branch_details, count(branch_details) from sales_transformation group by branch_details;\",conn)"
   ]
  },
  {
   "cell_type": "code",
   "execution_count": 86,
   "id": "b4206a5c",
   "metadata": {},
   "outputs": [
    {
     "data": {
      "text/html": [
       "<div>\n",
       "<style scoped>\n",
       "    .dataframe tbody tr th:only-of-type {\n",
       "        vertical-align: middle;\n",
       "    }\n",
       "\n",
       "    .dataframe tbody tr th {\n",
       "        vertical-align: top;\n",
       "    }\n",
       "\n",
       "    .dataframe thead th {\n",
       "        text-align: right;\n",
       "    }\n",
       "</style>\n",
       "<table border=\"1\" class=\"dataframe\">\n",
       "  <thead>\n",
       "    <tr style=\"text-align: right;\">\n",
       "      <th></th>\n",
       "      <th>branch_details</th>\n",
       "      <th>count(branch_details)</th>\n",
       "    </tr>\n",
       "  </thead>\n",
       "  <tbody>\n",
       "    <tr>\n",
       "      <th>0</th>\n",
       "      <td>Bimbo bakeries-Commerce city</td>\n",
       "      <td>11</td>\n",
       "    </tr>\n",
       "    <tr>\n",
       "      <th>1</th>\n",
       "      <td>Crayola LLC company-Pennsylvan</td>\n",
       "      <td>13</td>\n",
       "    </tr>\n",
       "    <tr>\n",
       "      <th>2</th>\n",
       "      <td>fate's food market-Remus</td>\n",
       "      <td>12</td>\n",
       "    </tr>\n",
       "    <tr>\n",
       "      <th>3</th>\n",
       "      <td>Kellogs corporate-Battle creek</td>\n",
       "      <td>11</td>\n",
       "    </tr>\n",
       "    <tr>\n",
       "      <th>4</th>\n",
       "      <td>Office Depot-Seattle</td>\n",
       "      <td>13</td>\n",
       "    </tr>\n",
       "    <tr>\n",
       "      <th>5</th>\n",
       "      <td>Walmart Supercenter-Kansas</td>\n",
       "      <td>11</td>\n",
       "    </tr>\n",
       "    <tr>\n",
       "      <th>6</th>\n",
       "      <td>Wilson factory-Ada</td>\n",
       "      <td>13</td>\n",
       "    </tr>\n",
       "    <tr>\n",
       "      <th>7</th>\n",
       "      <td>Yankee candle company-south de</td>\n",
       "      <td>12</td>\n",
       "    </tr>\n",
       "  </tbody>\n",
       "</table>\n",
       "</div>"
      ],
      "text/plain": [
       "                   branch_details  count(branch_details)\n",
       "0    Bimbo bakeries-Commerce city                     11\n",
       "1  Crayola LLC company-Pennsylvan                     13\n",
       "2        fate's food market-Remus                     12\n",
       "3  Kellogs corporate-Battle creek                     11\n",
       "4            Office Depot-Seattle                     13\n",
       "5      Walmart Supercenter-Kansas                     11\n",
       "6              Wilson factory-Ada                     13\n",
       "7  Yankee candle company-south de                     12"
      ]
     },
     "execution_count": 86,
     "metadata": {},
     "output_type": "execute_result"
    }
   ],
   "source": [
    "sale"
   ]
  },
  {
   "cell_type": "markdown",
   "id": "f2ada006",
   "metadata": {},
   "source": [
    "# Branch wise Sale"
   ]
  },
  {
   "cell_type": "code",
   "execution_count": 104,
   "id": "b2314251",
   "metadata": {},
   "outputs": [
    {
     "data": {
      "image/png": "[encoded data removed]",
      "text/plain": [
       "<Figure size 1440x720 with 1 Axes>"
      ]
     },
     "metadata": {
      "needs_background": "light"
     },
     "output_type": "display_data"
    }
   ],
   "source": [
    "cursor.execute(\"select branch_details, count(branch_details) from sales_transformation group by branch_details;\")\n",
    "result = cursor.fetchall\n",
    "branch= []\n",
    "sale_count= []\n",
    " \n",
    "for i in cursor:\n",
    "    branch.append(i[0])\n",
    "    sale_count.append(i[1])\n",
    "     \n",
    "fig, ax = plt.subplots()\n",
    "\n",
    "bar = ax.bar(branch,sale_count)\n",
    "plt.xticks(rotation=90)\n",
    "def gradientbars(bars):\n",
    "    grad = np.atleast_2d(np.linspace(0,1,256)).T\n",
    "    ax = bars[0].axes\n",
    "    lim = ax.get_xlim()+ax.get_ylim()\n",
    "    for bar in bars:\n",
    "        bar.set_zorder(1)\n",
    "        bar.set_facecolor(\"none\")\n",
    "        x,y = bar.get_xy()\n",
    "        w, h = bar.get_width(), bar.get_height()\n",
    "        ax.imshow(grad, extent=[x,x+w,y,y+h], aspect=\"auto\", zorder=0)\n",
    "    ax.axis(lim)\n",
    "\n",
    "gradientbars(bar)\n",
    "plt.rcParams['figure.figsize'] = [20, 10]\n",
    "\n",
    "plt.show() "
   ]
  },
  {
   "cell_type": "markdown",
   "id": "e73c7704",
   "metadata": {},
   "source": [
    "# Year wise sale -WRT- Month"
   ]
  },
  {
   "cell_type": "code",
   "execution_count": 105,
   "id": "978585f0",
   "metadata": {},
   "outputs": [
    {
     "name": "stderr",
     "output_type": "stream",
     "text": [
      "/home/ubh01/anaconda3/lib/python3.9/site-packages/pandas/io/sql.py:761: UserWarning: pandas only support SQLAlchemy connectable(engine/connection) ordatabase string URI or sqlite3 DBAPI2 connectionother DBAPI2 objects are not tested, please consider using SQLAlchemy\n",
      "  warnings.warn(\n"
     ]
    },
    {
     "data": {
      "image/png": "[encoded data removed]",
      "text/plain": [
       "<Figure size 1440x720 with 1 Axes>"
      ]
     },
     "metadata": {
      "needs_background": "light"
     },
     "output_type": "display_data"
    }
   ],
   "source": [
    "query=\"select sales_month, sum(case when sales_year='2020' then 1 else 0 end) as '2020', sum(case when sales_year='2021' then 1 else 0 end) as '2021', sum(case when sales_year='2022' then 1 else 0 end) as '2022' from sales_transformation group by sales_month;\"\n",
    "df = pd.read_sql(query,conn)\n",
    "plot=df.plot.bar(title=\"Sale Count\",x='sales_month',stacked=True);\n",
    "plt.rcParams['figure.figsize'] = [20, 20]"
   ]
  },
  {
   "cell_type": "code",
   "execution_count": 96,
   "id": "e57941d9",
   "metadata": {},
   "outputs": [
    {
     "name": "stderr",
     "output_type": "stream",
     "text": [
      "/home/ubh01/anaconda3/lib/python3.9/site-packages/pandas/io/sql.py:761: UserWarning: pandas only support SQLAlchemy connectable(engine/connection) ordatabase string URI or sqlite3 DBAPI2 connectionother DBAPI2 objects are not tested, please consider using SQLAlchemy\n",
      "  warnings.warn(\n"
     ]
    },
    {
     "data": {
      "text/html": [
       "<div>\n",
       "<style scoped>\n",
       "    .dataframe tbody tr th:only-of-type {\n",
       "        vertical-align: middle;\n",
       "    }\n",
       "\n",
       "    .dataframe tbody tr th {\n",
       "        vertical-align: top;\n",
       "    }\n",
       "\n",
       "    .dataframe thead th {\n",
       "        text-align: right;\n",
       "    }\n",
       "</style>\n",
       "<table border=\"1\" class=\"dataframe\">\n",
       "  <thead>\n",
       "    <tr style=\"text-align: right;\">\n",
       "      <th></th>\n",
       "      <th>sales_year</th>\n",
       "      <th>count(sales_year)</th>\n",
       "    </tr>\n",
       "  </thead>\n",
       "  <tbody>\n",
       "    <tr>\n",
       "      <th>0</th>\n",
       "      <td>2020</td>\n",
       "      <td>28</td>\n",
       "    </tr>\n",
       "    <tr>\n",
       "      <th>1</th>\n",
       "      <td>2021</td>\n",
       "      <td>49</td>\n",
       "    </tr>\n",
       "    <tr>\n",
       "      <th>2</th>\n",
       "      <td>2022</td>\n",
       "      <td>19</td>\n",
       "    </tr>\n",
       "  </tbody>\n",
       "</table>\n",
       "</div>"
      ],
      "text/plain": [
       "   sales_year  count(sales_year)\n",
       "0        2020                 28\n",
       "1        2021                 49\n",
       "2        2022                 19"
      ]
     },
     "execution_count": 96,
     "metadata": {},
     "output_type": "execute_result"
    }
   ],
   "source": [
    "year=pd.read_sql_query(\"select sales_year, count(sales_year) from sales_transformation group by sales_year;\",conn)\n",
    "year"
   ]
  },
  {
   "cell_type": "markdown",
   "id": "b1307678",
   "metadata": {},
   "source": [
    "# Sale trajectory - over the years"
   ]
  },
  {
   "cell_type": "code",
   "execution_count": 101,
   "id": "05dc41e1",
   "metadata": {},
   "outputs": [
    {
     "data": {
      "image/png": "[encoded data removed]",
      "text/plain": [
       "<Figure size 1440x720 with 1 Axes>"
      ]
     },
     "metadata": {},
     "output_type": "display_data"
    }
   ],
   "source": [
    "classes = '2020', '2021', '2022'\n",
    "query=\"select count(sales_year) from sales_transformation group by sales_year;\"\n",
    "cursor.execute(query)\n",
    "result = cursor.fetchall()\n",
    "final_result = [i[0] for i in result]\n",
    "\n",
    "explode = (0, 0, 0.1)  \n",
    "# only \"explode\" the 3rd slice (i.e. '2022')\n",
    "\n",
    "plt.pie(final_result, explode=explode, autopct='%1.1f%%',\n",
    "        labels=classes,shadow=True, startangle=90)\n",
    "\n",
    "plt.title(\"Over all Sales trajectory - year\")\n",
    "plt.rcParams['figure.figsize'] = [20,10]\n",
    "plt.show()"
   ]
  },
  {
   "cell_type": "markdown",
   "id": "beb07150",
   "metadata": {},
   "source": [
    "# Most sold vs Least Sold & everything in between"
   ]
  },
  {
   "cell_type": "code",
   "execution_count": 107,
   "id": "76a878c9",
   "metadata": {},
   "outputs": [
    {
     "name": "stderr",
     "output_type": "stream",
     "text": [
      "/home/ubh01/anaconda3/lib/python3.9/site-packages/pandas/io/sql.py:761: UserWarning: pandas only support SQLAlchemy connectable(engine/connection) ordatabase string URI or sqlite3 DBAPI2 connectionother DBAPI2 objects are not tested, please consider using SQLAlchemy\n",
      "  warnings.warn(\n"
     ]
    },
    {
     "data": {
      "image/png": "[encoded data removed]",
      "text/plain": [
       "<Figure size 1440x1440 with 1 Axes>"
      ]
     },
     "metadata": {
      "needs_background": "light"
     },
     "output_type": "display_data"
    }
   ],
   "source": [
    "df=pd.read_sql_query(\"select product_details, count(sale_id) from sales_transformation group by product_details order by count(sale_id);;\",conn)\n",
    "plt.plot(df[\"product_details\"],'r')\n",
    "plt.rcParams['figure.figsize'] = [20, 20]\n",
    "plt.show()"
   ]
  },
  {
   "cell_type": "code",
   "execution_count": null,
   "id": "c55c7b39",
   "metadata": {},
   "outputs": [],
   "source": []
  }
 ],
 "metadata": {
  "kernelspec": {
   "display_name": "Python 3 (ipykernel)",
   "language": "python",
   "name": "python3"
  },
  "language_info": {
   "codemirror_mode": {
    "name": "ipython",
    "version": 3
   },
   "file_extension": ".py",
   "mimetype": "text/x-python",
   "name": "python",
   "nbconvert_exporter": "python",
   "pygments_lexer": "ipython3",
   "version": "3.9.12"
  }
 },
 "nbformat": 4,
 "nbformat_minor": 5
}
